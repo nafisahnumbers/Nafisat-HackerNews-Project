{
 "cells": [
  {
   "cell_type": "markdown",
   "metadata": {
    "collapsed": true
   },
   "source": [
    "# Checking out posts on Hacker News\n",
    "In this project, I'll be checking Ask HN and Show HN posts to see which ones get more comments. I'll also be determining if posts get more traction at particular times."
   ]
  },
  {
   "cell_type": "code",
   "execution_count": 1,
   "metadata": {
    "collapsed": false
   },
   "outputs": [
    {
     "name": "stdout",
     "output_type": "stream",
     "text": [
      "['id', 'title', 'url', 'num_points', 'num_comments', 'author', 'created_at']\n",
      "\n",
      "\n",
      "['12224879', 'Interactive Dynamic Video', 'http://www.interactivedynamicvideo.com/', '386', '52', 'ne0phyte', '8/4/2016 11:52']\n",
      "\n",
      "\n",
      "['10975351', 'How to Use Open Source and Shut the Fuck Up at the Same Time', 'http://hueniverse.com/2016/01/26/how-to-use-open-source-and-shut-the-fuck-up-at-the-same-time/', '39', '10', 'josep2', '1/26/2016 19:30']\n",
      "\n",
      "\n",
      "['11964716', \"Florida DJs May Face Felony for April Fools' Water Joke\", 'http://www.thewire.com/entertainment/2013/04/florida-djs-april-fools-water-joke/63798/', '2', '1', 'vezycash', '6/23/2016 22:20']\n",
      "\n",
      "\n",
      "['11919867', 'Technology ventures: From Idea to Enterprise', 'https://www.amazon.com/Technology-Ventures-Enterprise-Thomas-Byers/dp/0073523429', '3', '1', 'hswarna', '6/17/2016 0:01']\n",
      "\n",
      "\n"
     ]
    }
   ],
   "source": [
    "from csv import reader\n",
    "#to read the hn data as a list of lists\n",
    "opened_file = open('hacker_news.csv')\n",
    "read_file = reader(opened_file)\n",
    "hn = list(read_file)\n",
    "#I want to take a look at the first five rows in the data\n",
    "for row in hn[:5]:\n",
    "    print(row)\n",
    "    print('\\n')\n"
   ]
  },
  {
   "cell_type": "code",
   "execution_count": 2,
   "metadata": {
    "collapsed": false
   },
   "outputs": [
    {
     "name": "stdout",
     "output_type": "stream",
     "text": [
      "['id', 'title', 'url', 'num_points', 'num_comments', 'author', 'created_at']\n",
      "\n",
      "\n",
      "['12224879', 'Interactive Dynamic Video', 'http://www.interactivedynamicvideo.com/', '386', '52', 'ne0phyte', '8/4/2016 11:52']\n",
      "\n",
      "\n",
      "['10975351', 'How to Use Open Source and Shut the Fuck Up at the Same Time', 'http://hueniverse.com/2016/01/26/how-to-use-open-source-and-shut-the-fuck-up-at-the-same-time/', '39', '10', 'josep2', '1/26/2016 19:30']\n",
      "\n",
      "\n",
      "['11964716', \"Florida DJs May Face Felony for April Fools' Water Joke\", 'http://www.thewire.com/entertainment/2013/04/florida-djs-april-fools-water-joke/63798/', '2', '1', 'vezycash', '6/23/2016 22:20']\n",
      "\n",
      "\n",
      "['11919867', 'Technology ventures: From Idea to Enterprise', 'https://www.amazon.com/Technology-Ventures-Enterprise-Thomas-Byers/dp/0073523429', '3', '1', 'hswarna', '6/17/2016 0:01']\n",
      "\n",
      "\n",
      "['10301696', 'Note by Note: The Making of Steinway L1037 (2007)', 'http://www.nytimes.com/2007/11/07/movies/07stein.html?_r=0', '8', '2', 'walterbell', '9/30/2015 4:12']\n",
      "\n",
      "\n"
     ]
    }
   ],
   "source": [
    "#I want to save the header row seperately\n",
    "headers = hn[0]\n",
    "hn1 = hn[1:]\n",
    "print(headers)\n",
    "print('\\n')\n",
    "#this is to make sure the header row is gone. \n",
    "#I'm using a loop so I can pot a space after each row and \n",
    "#it can be more legible\n",
    "for row in hn1[:5]:\n",
    "    print(row)\n",
    "    print('\\n')"
   ]
  },
  {
   "cell_type": "code",
   "execution_count": 3,
   "metadata": {
    "collapsed": false
   },
   "outputs": [
    {
     "name": "stdout",
     "output_type": "stream",
     "text": [
      "1744\n",
      "1162\n",
      "17194\n",
      "20100\n",
      "20100\n"
     ]
    }
   ],
   "source": [
    "#I want to filter my data and keep only \n",
    "#posts relating to Ask HN or Show HN\n",
    "#I'll create 3 new list of lists for that\n",
    "ask_posts = []\n",
    "show_posts = []\n",
    "other_posts = []\n",
    "for row in hn1:\n",
    "    #the title of each post will tell if its Ask HN, Show HN or others\n",
    "    title = row[1]\n",
    "    title_lower = title.lower()\n",
    "    if title_lower.startswith('ask hn'):\n",
    "        ask_posts.append(row)\n",
    "    elif title_lower.startswith('show hn'):\n",
    "        show_posts.append(row)\n",
    "    else:\n",
    "        other_posts.append(row)\n",
    "print(len(ask_posts))\n",
    "print(len(show_posts))\n",
    "print(len(other_posts))\n",
    "print(len(hn1))\n",
    "#the total should be 20,000\n",
    "print((len(ask_posts) + len(show_posts) + len(other_posts)))"
   ]
  },
  {
   "cell_type": "code",
   "execution_count": 4,
   "metadata": {
    "collapsed": false
   },
   "outputs": [
    {
     "name": "stdout",
     "output_type": "stream",
     "text": [
      "['12296411', 'Ask HN: How to improve my personal website?', '', '2', '6', 'ahmedbaracat', '8/16/2016 9:55']\n",
      "\n",
      "\n",
      "['10610020', 'Ask HN: Am I the only one outraged by Twitter shutting down share counts?', '', '28', '29', 'tkfx', '11/22/2015 13:43']\n",
      "\n",
      "\n",
      "['11610310', 'Ask HN: Aby recent changes to CSS that broke mobile?', '', '1', '1', 'polskibus', '5/2/2016 10:14']\n",
      "\n",
      "\n",
      "['12210105', 'Ask HN: Looking for Employee #3 How do I do it?', '', '1', '3', 'sph130', '8/2/2016 14:20']\n",
      "\n",
      "\n",
      "['10394168', 'Ask HN: Someone offered to buy my browser extension from me. What now?', '', '28', '17', 'roykolak', '10/15/2015 16:38']\n",
      "\n",
      "\n",
      "these are show posts\n",
      "['10627194', 'Show HN: Wio Link  ESP8266 Based Web of Things Hardware Development Platform', 'https://iot.seeed.cc', '26', '22', 'kfihihc', '11/25/2015 14:03']\n",
      "\n",
      "\n",
      "['10646440', 'Show HN: Something pointless I made', 'http://dn.ht/picklecat/', '747', '102', 'dhotson', '11/29/2015 22:46']\n",
      "\n",
      "\n",
      "['11590768', 'Show HN: Shanhu.io, a programming playground powered by e8vm', 'https://shanhu.io', '1', '1', 'h8liu', '4/28/2016 18:05']\n",
      "\n",
      "\n",
      "['12178806', 'Show HN: Webscope  Easy way for web developers to communicate with Clients', 'http://webscopeapp.com', '3', '3', 'fastbrick', '7/28/2016 7:11']\n",
      "\n",
      "\n",
      "['10872799', 'Show HN: GeoScreenshot  Easily test Geo-IP based web pages', 'https://www.geoscreenshot.com/', '1', '9', 'kpsychwave', '1/9/2016 20:45']\n",
      "\n",
      "\n"
     ]
    }
   ],
   "source": [
    "#I want to inspect the first five Ask HN posts\n",
    "for row in ask_posts[:5]:\n",
    "    print(row)\n",
    "    print('\\n')\n",
    "# I now want to look at the first five rows of show_posts\n",
    "print('these are show posts')\n",
    "for row in show_posts[:5]:\n",
    "    print(row)\n",
    "    print('\\n')"
   ]
  },
  {
   "cell_type": "code",
   "execution_count": 5,
   "metadata": {
    "collapsed": false
   },
   "outputs": [
    {
     "name": "stdout",
     "output_type": "stream",
     "text": [
      "The total number of comments on ask posts is 24483.0\n",
      "\n",
      "\n"
     ]
    }
   ],
   "source": [
    "#I'm trying to get the total number of comments that ask posts got\n",
    "total_ask_comments = 0\n",
    "for row in ask_posts:\n",
    "    num_comments = float(row[4])\n",
    "    total_ask_comments += num_comments\n",
    "print('The total number of comments on ask posts is', str(total_ask_comments))\n",
    "print('\\n')\n",
    "    "
   ]
  },
  {
   "cell_type": "code",
   "execution_count": 6,
   "metadata": {
    "collapsed": false
   },
   "outputs": [
    {
     "name": "stdout",
     "output_type": "stream",
     "text": [
      "the average number of comments on ask posts is 14\n"
     ]
    }
   ],
   "source": [
    "#recall that there are 1744 ask posts. Now, to find average\n",
    "avg_ask_comments = round(total_ask_comments/1744)\n",
    "print('the average number of comments on ask posts is', avg_ask_comments)"
   ]
  },
  {
   "cell_type": "code",
   "execution_count": 7,
   "metadata": {
    "collapsed": false
   },
   "outputs": [
    {
     "name": "stdout",
     "output_type": "stream",
     "text": [
      "The total number of comments on show posts is 11988.0\n"
     ]
    }
   ],
   "source": [
    "#I'm trying to get the total number of comments that show posts got\n",
    "total_show_comments = 0\n",
    "for row in show_posts:\n",
    "    num_comments = float(row[4])\n",
    "    total_show_comments += num_comments\n",
    "print('The total number of comments on show posts is', str(total_show_comments))\n",
    "\n",
    "    "
   ]
  },
  {
   "cell_type": "code",
   "execution_count": 8,
   "metadata": {
    "collapsed": false
   },
   "outputs": [
    {
     "name": "stdout",
     "output_type": "stream",
     "text": [
      "the average number of comments on show posts is 10\n"
     ]
    }
   ],
   "source": [
    "#recall that there are 1162 show posts. Now, to find average\n",
    "avg_show_comments = round(total_show_comments/1162)\n",
    "print('the average number of comments on show posts is', avg_show_comments)"
   ]
  },
  {
   "cell_type": "markdown",
   "metadata": {},
   "source": [
    "From the results above we can see that:\n",
    "1. Ask HN posts get an average of 14 comments\n",
    "2. Show HN posts get an average of 10 comments\n",
    "\n",
    "Hence, Ask HN posts receive more comments"
   ]
  },
  {
   "cell_type": "markdown",
   "metadata": {},
   "source": [
    "# To determine if there are times when posts get more comments\n",
    "Because Ask HN posts attract more comments, I'll analyse just them to determine if there are favourable posting times.\n",
    "I'll first calculate how many Ask HN posts are made for each hour of the day."
   ]
  },
  {
   "cell_type": "code",
   "execution_count": 9,
   "metadata": {
    "collapsed": false
   },
   "outputs": [
    {
     "name": "stdout",
     "output_type": "stream",
     "text": [
      "[['8/16/2016 9:55', 6], ['11/22/2015 13:43', 29], ['5/2/2016 10:14', 1]]\n"
     ]
    }
   ],
   "source": [
    "import datetime as dt\n",
    "result_list = []\n",
    "for row in ask_posts:\n",
    "    created_at = row[6]\n",
    "    num_comments = int(row[4])\n",
    "    time_and_number = [created_at, num_comments]\n",
    "    result_list.append(time_and_number)\n",
    "print(result_list[:3])"
   ]
  },
  {
   "cell_type": "code",
   "execution_count": 10,
   "metadata": {
    "collapsed": false
   },
   "outputs": [
    {
     "name": "stdout",
     "output_type": "stream",
     "text": [
      "{'20': 80, '16': 108, '14': 107, '00': 55, '02': 58, '23': 68, '06': 44, '08': 48, '11': 58, '17': 100, '01': 60, '05': 46, '07': 34, '22': 71, '15': 116, '13': 85, '21': 109, '19': 110, '18': 109, '09': 45, '12': 73, '04': 47, '10': 59, '03': 54}\n",
      "\n",
      "\n",
      "{'20': 1722, '16': 1814, '14': 1416, '00': 447, '02': 1381, '23': 543, '06': 397, '08': 492, '11': 641, '17': 1146, '01': 683, '05': 464, '07': 267, '22': 479, '15': 4477, '13': 1253, '21': 1745, '19': 1188, '18': 1439, '09': 251, '12': 687, '04': 337, '10': 793, '03': 421}\n"
     ]
    }
   ],
   "source": [
    "import datetime as dt\n",
    "counts_by_hour = {}\n",
    "comments_by_hour = {}\n",
    "for row in result_list:\n",
    "    time = row[0]\n",
    "    time = dt.datetime.strptime(time, \"%m/%d/%Y %H:%M\")\n",
    "    hour = dt.datetime.strftime(time, '%H')\n",
    "    comment = row[1]\n",
    "    if hour not in counts_by_hour:\n",
    "        counts_by_hour[hour] = 1\n",
    "    else:\n",
    "        counts_by_hour[hour] += 1\n",
    "    if hour not in comments_by_hour:\n",
    "        comments_by_hour[hour] = comment\n",
    "    else:\n",
    "        comments_by_hour[hour] += comment\n",
    "print(counts_by_hour)\n",
    "print('\\n')\n",
    "print(comments_by_hour)\n",
    "        "
   ]
  },
  {
   "cell_type": "code",
   "execution_count": 11,
   "metadata": {
    "collapsed": false
   },
   "outputs": [
    {
     "name": "stdout",
     "output_type": "stream",
     "text": [
      "[['20', 22], ['16', 17], ['14', 13], ['00', 8], ['02', 24], ['23', 8], ['06', 9], ['08', 10], ['11', 11], ['17', 11], ['01', 11], ['05', 10], ['07', 8], ['22', 7], ['15', 39], ['13', 15], ['21', 16], ['19', 11], ['18', 13], ['09', 6], ['12', 9], ['04', 7], ['10', 13], ['03', 8]]\n"
     ]
    }
   ],
   "source": [
    "#to find the average number of comments by hour\n",
    "avg_by_hour = []\n",
    "for hour in comments_by_hour:\n",
    "    avg = round(comments_by_hour[hour]/counts_by_hour[hour])\n",
    "    hour_avg = [hour, avg]\n",
    "    avg_by_hour.append(hour_avg)\n",
    "print(avg_by_hour)"
   ]
  },
  {
   "cell_type": "code",
   "execution_count": 12,
   "metadata": {
    "collapsed": false
   },
   "outputs": [
    {
     "name": "stdout",
     "output_type": "stream",
     "text": [
      "[[22, '20'], [17, '16'], [13, '14'], [8, '00'], [24, '02'], [8, '23'], [9, '06'], [10, '08'], [11, '11'], [11, '17'], [11, '01'], [10, '05'], [8, '07'], [7, '22'], [39, '15'], [15, '13'], [16, '21'], [11, '19'], [13, '18'], [6, '09'], [9, '12'], [7, '04'], [13, '10'], [8, '03']]\n"
     ]
    }
   ],
   "source": [
    "#I'm just swapping the elements in each row to make the avg number of comments come first\n",
    "swap_avg_by_hour = []\n",
    "for row in avg_by_hour:\n",
    "    swap_row = [row[1], row[0]]\n",
    "    swap_avg_by_hour.append(swap_row)\n",
    "print(swap_avg_by_hour)"
   ]
  },
  {
   "cell_type": "code",
   "execution_count": 13,
   "metadata": {
    "collapsed": false
   },
   "outputs": [
    {
     "name": "stdout",
     "output_type": "stream",
     "text": [
      "[39, '15']\n",
      "\n",
      "\n",
      "[24, '02']\n",
      "\n",
      "\n",
      "[22, '20']\n",
      "\n",
      "\n",
      "[17, '16']\n",
      "\n",
      "\n",
      "[16, '21']\n",
      "\n",
      "\n",
      "[15, '13']\n",
      "\n",
      "\n",
      "[13, '18']\n",
      "\n",
      "\n",
      "[13, '14']\n",
      "\n",
      "\n",
      "[13, '10']\n",
      "\n",
      "\n",
      "[11, '19']\n",
      "\n",
      "\n",
      "[11, '17']\n",
      "\n",
      "\n",
      "[11, '11']\n",
      "\n",
      "\n",
      "[11, '01']\n",
      "\n",
      "\n",
      "[10, '08']\n",
      "\n",
      "\n",
      "[10, '05']\n",
      "\n",
      "\n",
      "[9, '12']\n",
      "\n",
      "\n",
      "[9, '06']\n",
      "\n",
      "\n",
      "[8, '23']\n",
      "\n",
      "\n",
      "[8, '07']\n",
      "\n",
      "\n",
      "[8, '03']\n",
      "\n",
      "\n",
      "[8, '00']\n",
      "\n",
      "\n",
      "[7, '22']\n",
      "\n",
      "\n",
      "[7, '04']\n",
      "\n",
      "\n",
      "[6, '09']\n",
      "\n",
      "\n"
     ]
    }
   ],
   "source": [
    "#I'm sorting the data in descending order\n",
    "sorted_avg_by_hour = sorted(swap_avg_by_hour, reverse = True)\n",
    "for data in sorted_avg_by_hour:\n",
    "    print(data)\n",
    "    print('\\n')"
   ]
  },
  {
   "cell_type": "code",
   "execution_count": 14,
   "metadata": {
    "collapsed": false
   },
   "outputs": [
    {
     "name": "stdout",
     "output_type": "stream",
     "text": [
      "Top 5 Hours for Ask Posts Comments\n",
      "15:00: 39 average comments per posts\n",
      "02:00: 24 average comments per posts\n",
      "20:00: 22 average comments per posts\n",
      "16:00: 17 average comments per posts\n",
      "21:00: 16 average comments per posts\n"
     ]
    }
   ],
   "source": [
    "print('Top 5 Hours for Ask Posts Comments')\n",
    "for row in sorted_avg_by_hour[:5]:\n",
    "    template = \"{0}:00: {1} average comments per posts\"\n",
    "    print(template.format(row[1], row[0]))\n",
    "    "
   ]
  },
  {
   "cell_type": "markdown",
   "metadata": {},
   "source": [
    "# Top 5 Hours for Ask Posts Comments\n",
    "From the above, we can see that the best hours for making Ask HN posts are 15:00, 2:00, 20:00, 16:00 and 21:00 (all eastern US time, GMT -4). \n",
    "For Nigerians (GMT +1), the best times would be:\n",
    "\n",
    "20:00: 39 average comments per posts,\n",
    "\n",
    "07:00: 24 average comments per posts,\n",
    "\n",
    "01:00: 22 average comments per posts,\n",
    "\n",
    "21:00: 17 average comments per posts,\n",
    "\n",
    "02:00: 16 average comments per posts"
   ]
  },
  {
   "cell_type": "code",
   "execution_count": null,
   "metadata": {
    "collapsed": true
   },
   "outputs": [],
   "source": []
  }
 ],
 "metadata": {
  "kernelspec": {
   "display_name": "Python 3",
   "language": "python",
   "name": "python3"
  },
  "language_info": {
   "codemirror_mode": {
    "name": "ipython",
    "version": 3
   },
   "file_extension": ".py",
   "mimetype": "text/x-python",
   "name": "python",
   "nbconvert_exporter": "python",
   "pygments_lexer": "ipython3",
   "version": "3.4.3"
  }
 },
 "nbformat": 4,
 "nbformat_minor": 2
}
